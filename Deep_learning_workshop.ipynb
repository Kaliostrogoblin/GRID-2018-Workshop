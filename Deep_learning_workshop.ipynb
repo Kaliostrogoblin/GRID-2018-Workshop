{
  "nbformat": 4,
  "nbformat_minor": 0,
  "metadata": {
    "colab": {
      "name": "Deep learning workshop.ipynb",
      "version": "0.3.2",
      "provenance": [],
      "collapsed_sections": [],
      "include_colab_link": true
    },
    "kernelspec": {
      "name": "python3",
      "display_name": "Python 3"
    }
  },
  "cells": [
    {
      "cell_type": "markdown",
      "metadata": {
        "id": "view-in-github",
        "colab_type": "text"
      },
      "source": [
        "[View in Colaboratory](https://colab.research.google.com/github/Kaliostrogoblin/GRID-2018-Workshop/blob/master/Deep_learning_workshop.ipynb)"
      ]
    },
    {
      "metadata": {
        "id": "DBCB39c2ufcC",
        "colab_type": "text"
      },
      "cell_type": "markdown",
      "source": [
        "# Deep Learning for beginners with exciting example of computing poetry"
      ]
    },
    {
      "metadata": {
        "id": "FYv6ncn9upEo",
        "colab_type": "code",
        "colab": {}
      },
      "cell_type": "code",
      "source": [
        ""
      ],
      "execution_count": 0,
      "outputs": []
    }
  ]
}